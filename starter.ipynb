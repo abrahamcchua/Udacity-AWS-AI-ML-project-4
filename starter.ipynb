{
 "cells": [
  {
   "cell_type": "markdown",
   "metadata": {},
   "source": [
    "# Deploy and monitor a machine learning workflow for Image Classification"
   ]
  },
  {
   "cell_type": "markdown",
   "metadata": {},
   "source": [
    "## Setting up this notebook\n",
    "\n",
    "Notes about the instance size and kernel setup: this notebook has been tested on\n",
    "\n",
    "1. The `Python 3 (Data Science)` kernel\n",
    "2. The `ml.t3.medium` Sagemaker notebook instance\n",
    "\n",
    "## Data Staging\n",
    "\n",
    "We'll use a sample dataset called CIFAR to simulate the challenges Scones Unlimited are facing in Image Classification. In order to start working with CIFAR we'll need to:\n",
    "\n",
    "1. Extract the data from a hosting service\n",
    "2. Transform it into a usable shape and format\n",
    "3. Load it into a production system\n",
    "\n",
    "In other words, we're going to do some simple ETL!\n",
    "\n",
    "### 1. Extract the data from the hosting service\n",
    "\n",
    "In the cell below, define a function `extract_cifar_data` that extracts python version of the CIFAR-100 dataset. The CIFAR dataaset is open source and generously hosted by the University of Toronto at: https://www.cs.toronto.edu/~kriz/cifar-100-python.tar.gz "
   ]
  },
  {
   "cell_type": "code",
   "execution_count": 2,
   "metadata": {},
   "outputs": [],
   "source": [
    "import requests\n",
    "\n",
    "def extract_cifar_data(url, filename=\"cifar.tar.gz\"):\n",
    "    \"\"\"A function for extracting the CIFAR-100 dataset and storing it as a gzipped file\n",
    "    \n",
    "    Arguments:\n",
    "    url      -- the URL where the dataset is hosted\n",
    "    filename -- the full path where the dataset will be written\n",
    "    \n",
    "    \"\"\"\n",
    "    \n",
    "    # Todo: request the data from the data url\n",
    "    # Hint: use `requests.get` method\n",
    "    r = requests.get(url)\n",
    "    with open(filename, \"wb\") as file_context:\n",
    "        file_context.write(r.content)\n",
    "    return"
   ]
  },
  {
   "cell_type": "markdown",
   "metadata": {},
   "source": [
    "Let's test it out! Run the following cell and check whether a new file `cifar.tar.gz` is created in the file explorer."
   ]
  },
  {
   "cell_type": "code",
   "execution_count": 3,
   "metadata": {},
   "outputs": [],
   "source": [
    "extract_cifar_data(\"https://www.cs.toronto.edu/~kriz/cifar-100-python.tar.gz\")     "
   ]
  },
  {
   "cell_type": "markdown",
   "metadata": {},
   "source": [
    "### 2. Transform the data into a usable shape and format\n",
    "\n",
    "Clearly, distributing the data as a gzipped archive makes sense for the hosting service! It saves on bandwidth, storage, and it's a widely-used archive format. In fact, it's so widely used that the Python community ships a utility for working with them, `tarfile`, as part of its Standard Library. Execute the following cell to decompress your extracted dataset:"
   ]
  },
  {
   "cell_type": "code",
   "execution_count": 4,
   "metadata": {},
   "outputs": [],
   "source": [
    "import tarfile\n",
    "\n",
    "with tarfile.open(\"cifar.tar.gz\", \"r:gz\") as tar:\n",
    "    tar.extractall()"
   ]
  },
  {
   "cell_type": "markdown",
   "metadata": {},
   "source": [
    "A new folder `cifar-100-python` should be created, containing `meta`, `test`, and `train` files. These files are `pickles` and the [CIFAR homepage](https://www.cs.toronto.edu/~kriz/cifar.html) provides a simple script that can be used to load them. We've adapted the script below for you to run:"
   ]
  },
  {
   "cell_type": "code",
   "execution_count": 5,
   "metadata": {},
   "outputs": [],
   "source": [
    "import pickle\n",
    "\n",
    "with open(\"./cifar-100-python/meta\", \"rb\") as f:\n",
    "    dataset_meta = pickle.load(f, encoding='bytes')\n",
    "\n",
    "with open(\"./cifar-100-python/test\", \"rb\") as f:\n",
    "    dataset_test = pickle.load(f, encoding='bytes')\n",
    "\n",
    "with open(\"./cifar-100-python/train\", \"rb\") as f:\n",
    "    dataset_train = pickle.load(f, encoding='bytes')"
   ]
  },
  {
   "cell_type": "code",
   "execution_count": 6,
   "metadata": {},
   "outputs": [
    {
     "data": {
      "text/plain": [
       "dict_keys([b'filenames', b'batch_label', b'fine_labels', b'coarse_labels', b'data'])"
      ]
     },
     "execution_count": 6,
     "metadata": {},
     "output_type": "execute_result"
    }
   ],
   "source": [
    "# Feel free to explore the datasets\n",
    "\n",
    "dataset_train.keys()"
   ]
  },
  {
   "cell_type": "markdown",
   "metadata": {},
   "source": [
    "As documented on the homepage, `b'data'` contains rows of 3073 unsigned integers, representing three channels (red, green, and blue) for one 32x32 pixel image per row."
   ]
  },
  {
   "cell_type": "code",
   "execution_count": 7,
   "metadata": {},
   "outputs": [
    {
     "data": {
      "text/plain": [
       "3072"
      ]
     },
     "execution_count": 7,
     "metadata": {},
     "output_type": "execute_result"
    }
   ],
   "source": [
    "32*32*3"
   ]
  },
  {
   "cell_type": "markdown",
   "metadata": {},
   "source": [
    "For a simple gut-check, let's transform one of our images. Each 1024 items in a row is a channel (red, green, then blue). Each 32 items in the channel are a row in the 32x32 image. Using python, we can stack these channels into a 32x32x3 array, and save it as a PNG file:"
   ]
  },
  {
   "cell_type": "code",
   "execution_count": 8,
   "metadata": {},
   "outputs": [],
   "source": [
    "import numpy as np\n",
    "\n",
    "# Each 1024 in a row is a channel (red, green, then blue)\n",
    "row = dataset_train[b'data'][0]\n",
    "red, green, blue = row[0:1024], row[1024:2048], row[2048:]\n",
    "\n",
    "# Each 32 items in the channel are a row in the 32x32 image\n",
    "red = red.reshape(32,32)\n",
    "green = green.reshape(32,32)\n",
    "blue = blue.reshape(32,32)\n",
    "\n",
    "# Combine the channels into a 32x32x3 image!\n",
    "combined = np.dstack((red,green,blue))"
   ]
  },
  {
   "cell_type": "markdown",
   "metadata": {},
   "source": [
    "For a more concise version, consider the following:"
   ]
  },
  {
   "cell_type": "code",
   "execution_count": 9,
   "metadata": {},
   "outputs": [],
   "source": [
    "# All in one:\n",
    "test_image = np.dstack((\n",
    "    row[0:1024].reshape(32,32),\n",
    "    row[1024:2048].reshape(32,32),\n",
    "    row[2048:].reshape(32,32)\n",
    "))"
   ]
  },
  {
   "cell_type": "code",
   "execution_count": 76,
   "metadata": {},
   "outputs": [
    {
     "data": {
      "image/png": "[encoded data removed]",
      "text/plain": [
       "<Figure size 640x480 with 1 Axes>"
      ]
     },
     "metadata": {},
     "output_type": "display_data"
    }
   ],
   "source": [
    "%matplotlib inline\n",
    "import matplotlib.pyplot as plt\n",
    "plt.imshow(test_image);"
   ]
  },
  {
   "cell_type": "markdown",
   "metadata": {},
   "source": [
    "Looks like a cow! Let's check the label. `dataset_meta` contains label names in order, and `dataset_train` has a list of labels for each row."
   ]
  },
  {
   "cell_type": "code",
   "execution_count": 11,
   "metadata": {},
   "outputs": [
    {
     "data": {
      "text/plain": [
       "19"
      ]
     },
     "execution_count": 11,
     "metadata": {},
     "output_type": "execute_result"
    }
   ],
   "source": [
    "dataset_train[b'fine_labels'][0]"
   ]
  },
  {
   "cell_type": "markdown",
   "metadata": {},
   "source": [
    "Our image has a label of `19`, so let's see what the 19th item is in the list of label names."
   ]
  },
  {
   "cell_type": "code",
   "execution_count": 12,
   "metadata": {},
   "outputs": [
    {
     "name": "stdout",
     "output_type": "stream",
     "text": [
      "b'cattle'\n"
     ]
    }
   ],
   "source": [
    "print(dataset_meta[b'fine_label_names'][19])"
   ]
  },
  {
   "cell_type": "markdown",
   "metadata": {},
   "source": [
    "Ok! 'cattle' sounds about right. By the way, using the previous two lines we can do:"
   ]
  },
  {
   "cell_type": "code",
   "execution_count": 13,
   "metadata": {},
   "outputs": [
    {
     "name": "stdout",
     "output_type": "stream",
     "text": [
      "b'cattle'\n"
     ]
    }
   ],
   "source": [
    "n = 0\n",
    "print(dataset_meta[b'fine_label_names'][dataset_train[b'fine_labels'][n]])"
   ]
  },
  {
   "cell_type": "markdown",
   "metadata": {},
   "source": [
    "Now we know how to check labels, is there a way that we can also check file names? `dataset_train` also contains a `b'filenames'` key. Let's see what we have here:"
   ]
  },
  {
   "cell_type": "code",
   "execution_count": 14,
   "metadata": {},
   "outputs": [
    {
     "name": "stdout",
     "output_type": "stream",
     "text": [
      "b'bos_taurus_s_000507.png'\n"
     ]
    }
   ],
   "source": [
    "print(dataset_train[b'filenames'][0])"
   ]
  },
  {
   "cell_type": "markdown",
   "metadata": {},
   "source": [
    "\"Taurus\" is the name of a subspecies of cattle, so this looks like a pretty reasonable filename. To save an image we can also do:"
   ]
  },
  {
   "cell_type": "code",
   "execution_count": 15,
   "metadata": {},
   "outputs": [],
   "source": [
    "plt.imsave(\"file.png\", test_image)"
   ]
  },
  {
   "cell_type": "markdown",
   "metadata": {},
   "source": [
    "Your new PNG file should now appear in the file explorer -- go ahead and pop it open to see!\n",
    "\n",
    "Now that you know how to reshape the images, save them as files, and capture their filenames and labels, let's just capture all the bicycles and motorcycles and save them. Scones Unlimited can use a model that tells these apart to route delivery drivers automatically.\n",
    "\n",
    "In the following cell, identify the label numbers for Bicycles and Motorcycles:"
   ]
  },
  {
   "cell_type": "code",
   "execution_count": 16,
   "metadata": {},
   "outputs": [
    {
     "name": "stdout",
     "output_type": "stream",
     "text": [
      "b'bicycle': 8\n",
      "b'motorcycle': 48\n"
     ]
    }
   ],
   "source": [
    "import pandas as pd\n",
    "# print(dataset_meta[b'fine_label_names'])\n",
    "# Todo: Filter the dataset_train and dataset_meta objects to find the label numbers for Bicycle and Motorcycles\n",
    "\n",
    "for i in range(len(dataset_meta[b'fine_label_names'])):\n",
    "    \n",
    "    label = dataset_meta[b'fine_label_names'][i]\n",
    "    if label == b'bicycle' or label == b'motorcycle':\n",
    "        print(f'{label}: {i}')\n",
    "\n",
    "    \n",
    "\n"
   ]
  },
  {
   "cell_type": "markdown",
   "metadata": {},
   "source": [
    "Good job! We only need objects with label 8 and 48 -- this drastically simplifies our handling of the data! Below we construct a dataframe for you, and you can safely drop the rows that don't contain observations about bicycles and motorcycles. Fill in the missing lines below to drop all other rows:"
   ]
  },
  {
   "cell_type": "code",
   "execution_count": 17,
   "metadata": {},
   "outputs": [],
   "source": [
    "#Construct the dataframe\n",
    "df_train = pd.DataFrame({\n",
    "    \"filenames\": dataset_train[b'filenames'],\n",
    "    \"labels\": dataset_train[b'fine_labels'],\n",
    "    \"row\": range(len(dataset_train[b'filenames']))\n",
    "})\n",
    "# Drop all rows from df_train where label is not 8 or 48\n",
    "#TODO: Fill in\n",
    "df_train = df_train[(df_train['labels'] == 8) | (df_train['labels'] == 48)]\n",
    "# Decode df_train.filenames so they are regular strings\n",
    "df_train[\"filenames\"] = df_train[\"filenames\"].apply(\n",
    "    lambda x: x.decode(\"utf-8\")\n",
    ")\n",
    "\n",
    "\n",
    "df_test = pd.DataFrame({\n",
    "    \"filenames\": dataset_test[b'filenames'],\n",
    "    \"labels\": dataset_test[b'fine_labels'],\n",
    "    \"row\": range(len(dataset_test[b'filenames']))\n",
    "})\n",
    "\n",
    "# Drop all rows from df_test where label is not 8 or 48\n",
    "df_test = df_test[(df_test['labels'] == 8) | (df_test['labels'] == 48)]\n",
    "# Decode df_test.filenames so they are regular strings\n",
    "df_test[\"filenames\"] = df_test[\"filenames\"].apply(\n",
    "    lambda x: x.decode(\"utf-8\")\n",
    ")"
   ]
  },
  {
   "cell_type": "markdown",
   "metadata": {},
   "source": [
    "Now that the data is filtered for just our classes, we can save all our images."
   ]
  },
  {
   "cell_type": "code",
   "execution_count": 75,
   "metadata": {},
   "outputs": [],
   "source": [
    "!mkdir ./train\n",
    "!mkdir ./test"
   ]
  },
  {
   "cell_type": "markdown",
   "metadata": {},
   "source": [
    "In the previous sections we introduced you to several key snippets of code:\n",
    "\n",
    "1. Grabbing the image data:\n",
    "\n",
    "```python\n",
    "dataset_train[b'data'][0]\n",
    "```\n",
    "\n",
    "2. A simple idiom for stacking the image data into the right shape\n",
    "\n",
    "```python\n",
    "import numpy as np\n",
    "np.dstack((\n",
    "    row[0:1024].reshape(32,32),\n",
    "    row[1024:2048].reshape(32,32),\n",
    "    row[2048:].reshape(32,32)\n",
    "))\n",
    "```\n",
    "\n",
    "3. A simple `matplotlib` utility for saving images\n",
    "\n",
    "```python\n",
    "plt.imsave(path+row['filenames'], target)\n",
    "```\n",
    "\n",
    "Compose these together into a function that saves all the images into the `./test` and `./train` directories. Use the comments in the body of the `save_images` function below to guide your construction of the function:\n"
   ]
  },
  {
   "cell_type": "code",
   "execution_count": null,
   "metadata": {},
   "outputs": [
    {
     "name": "stdout",
     "output_type": "stream",
     "text": [
      "train data 64% completed\n"
     ]
    }
   ],
   "source": [
    "from IPython.display import clear_output\n",
    "def save_images():\n",
    "    #Grab the image data in row-major form\n",
    "    img = dataset_train[b'data']\n",
    "    for i in range(len(img)):\n",
    "        row = img[i]\n",
    "        fname = dataset_train[b'filenames'][i].decode(\"utf-8\")\n",
    "        if row.shape == (3072,):\n",
    "            target = np.dstack((\n",
    "                row[0:1024].reshape(32,32),\n",
    "                row[1024:2048].reshape(32,32),\n",
    "                row[2048:].reshape(32,32)\n",
    "            ))\n",
    "            plt.imsave('train/'+fname, target)\n",
    "        else:\n",
    "            print(f\"Skipping image {i} due to unexpected shape: {row.shape}\")\n",
    "        #Sanity check\n",
    "        clear_output(wait=True)\n",
    "        print(f'train data {str((i*100)//len(img))}% completed')\n",
    "\n",
    "    # Consolidated stacking/reshaping from earlier\n",
    "    # target = \n",
    "    \n",
    "    # Save the image\n",
    "    \n",
    "    img = dataset_test[b'data']\n",
    "    for i in range(len(img)):\n",
    "        row = img[i]\n",
    "        if row.shape == (3072,):\n",
    "            fname = dataset_test[b'filenames'][i].decode(\"utf-8\")\n",
    "            target = np.dstack((\n",
    "                row[0:1024].reshape(32,32),\n",
    "                row[1024:2048].reshape(32,32),\n",
    "                row[2048:].reshape(32,32)\n",
    "            ))\n",
    "            plt.imsave('test/'+fname, target)\n",
    "        else: \n",
    "            print(f\"Skipping image {i} due to unexpected shape: {row.shape}\")\n",
    "        # Sanity check\n",
    "        clear_output(wait=True)\n",
    "        print(f'test data {str((i*100)//len(img))}% completed')\n",
    "    # Return any signal data you want for debugging\n",
    "    return\n",
    "\n",
    "save_images()\n",
    "## TODO: save ALL images using the save_images function"
   ]
  },
  {
   "cell_type": "markdown",
   "metadata": {},
   "source": [
    "### 3. Load the data\n",
    "\n",
    "Now we can load the data into S3.\n",
    "\n",
    "Using the sagemaker SDK grab the current region, execution role, and bucket."
   ]
  },
  {
   "cell_type": "code",
   "execution_count": 20,
   "metadata": {},
   "outputs": [
    {
     "name": "stdout",
     "output_type": "stream",
     "text": [
      "Default Bucket: aws-udacity-abraham-project\n",
      "AWS Region: us-east-1\n",
      "RoleArn: arn:aws:iam::043460627877:role/service-role/AmazonSageMaker-ExecutionRole-20230814T185844\n"
     ]
    }
   ],
   "source": [
    "import sagemaker\n",
    "from sagemaker import get_execution_role\n",
    "import boto3\n",
    "\n",
    "my_session = boto3.session.Session()\n",
    "\n",
    "## TODO: fill in\n",
    "bucket= 'aws-udacity-abraham-project'\n",
    "print(\"Default Bucket: {}\".format(bucket))\n",
    "\n",
    "## TODO: fill in\n",
    "region = my_session.region_name\n",
    "print(\"AWS Region: {}\".format(region))\n",
    "\n",
    "## TODO: fill in\n",
    "role = get_execution_role()\n",
    "print(\"RoleArn: {}\".format(role))"
   ]
  },
  {
   "cell_type": "markdown",
   "metadata": {},
   "source": [
    "With this data we can easily sync your data up into S3!"
   ]
  },
  {
   "cell_type": "code",
   "execution_count": 5,
   "metadata": {},
   "outputs": [],
   "source": [
    "import os\n",
    "\n",
    "os.environ[\"DEFAULT_S3_BUCKET\"] = bucket\n",
    "!aws s3 sync ./train s3://${DEFAULT_S3_BUCKET}/train/\n",
    "!aws s3 sync ./test s3://${DEFAULT_S3_BUCKET}/test/"
   ]
  },
  {
   "cell_type": "markdown",
   "metadata": {},
   "source": [
    "And that's it! You can check the bucket and verify that the items were uploaded.\n",
    "\n",
    "## Model Training\n",
    "\n",
    "For Image Classification, Sagemaker [also expects metadata](https://docs.aws.amazon.com/sagemaker/latest/dg/image-classification.html) e.g. in the form of TSV files with labels and filepaths. We can generate these using our Pandas DataFrames from earlier:"
   ]
  },
  {
   "cell_type": "code",
   "execution_count": 36,
   "metadata": {},
   "outputs": [],
   "source": [
    "def to_metadata_file(df, prefix):\n",
    "    df[\"s3_path\"] = df[\"filenames\"]\n",
    "    df[\"labels\"] = df[\"labels\"].apply(lambda x: 0 if x==8 else 1)\n",
    "    return df[[\"row\", \"labels\", \"s3_path\"]].to_csv(\n",
    "        f\"{prefix}.lst\", sep=\"\\t\", index=False, header=False\n",
    "    )\n",
    "    \n",
    "to_metadata_file(df_train.copy(), \"train\")\n",
    "to_metadata_file(df_test.copy(), \"test\")"
   ]
  },
  {
   "cell_type": "markdown",
   "metadata": {},
   "source": [
    "We can also upload our manifest files:"
   ]
  },
  {
   "cell_type": "code",
   "execution_count": 37,
   "metadata": {},
   "outputs": [],
   "source": [
    "import boto3\n",
    "\n",
    "# Upload files\n",
    "boto3.Session().resource('s3').Bucket(\n",
    "    bucket).Object('train.lst').upload_file('./train.lst')\n",
    "boto3.Session().resource('s3').Bucket(\n",
    "    bucket).Object('test.lst').upload_file('./test.lst')"
   ]
  },
  {
   "cell_type": "markdown",
   "metadata": {},
   "source": [
    "Using the `bucket` and `region` info we can get the latest prebuilt container to run our training job, and define an output location on our s3 bucket for the model. Use the `image_uris` function from the SageMaker SDK to retrieve the latest `image-classification` image below:"
   ]
  },
  {
   "cell_type": "code",
   "execution_count": 31,
   "metadata": {},
   "outputs": [
    {
     "name": "stderr",
     "output_type": "stream",
     "text": [
      "INFO:sagemaker.image_uris:Same images used for training and inference. Defaulting to image scope: inference.\n",
      "INFO:sagemaker.image_uris:Defaulting to the only supported framework/algorithm version: 1.\n",
      "INFO:sagemaker.image_uris:Ignoring unnecessary instance type: None.\n"
     ]
    }
   ],
   "source": [
    "# Use the image_uris function to retrieve the latest 'image-classification' image \n",
    "from sagemaker import image_uris\n",
    "algo_image = image_uris.retrieve(framework='image-classification',region=region)\n",
    "s3_output_location = f\"s3://{bucket}/models/image_model\""
   ]
  },
  {
   "cell_type": "markdown",
   "metadata": {},
   "source": [
    "We're ready to create an estimator! Create an estimator `img_classifier_model` that uses one instance of `ml.p3.2xlarge`. Ensure that y ou use the output location we defined above - we'll be referring to that later!"
   ]
  },
  {
   "cell_type": "code",
   "execution_count": 38,
   "metadata": {},
   "outputs": [],
   "source": [
    "import sagemaker \n",
    "\n",
    "session = sagemaker.Session()\n",
    "img_classifier_model=sagemaker.estimator.Estimator(\n",
    "    ## TODO: define your estimator options    \n",
    "    algo_image,\n",
    "    role,\n",
    "    instance_count=1,\n",
    "    instance_type='ml.p3.2xlarge',\n",
    "    output_path=s3_output_location,\n",
    "    sagemaker_session=session\n",
    ")"
   ]
  },
  {
   "cell_type": "markdown",
   "metadata": {},
   "source": [
    "\n",
    "We can also set a few key hyperparameters and define the inputs for our model:"
   ]
  },
  {
   "cell_type": "code",
   "execution_count": 39,
   "metadata": {},
   "outputs": [],
   "source": [
    "img_classifier_model.set_hyperparameters(\n",
    "    image_shape= '3,32,32', # TODO: Fill in\n",
    "    num_classes=2, # TODO: Fill in\n",
    "    num_training_samples= len(df_train) # TODO: fill in\n",
    ")"
   ]
  },
  {
   "cell_type": "markdown",
   "metadata": {},
   "source": [
    "The `image-classification` image uses four input channels with very specific input parameters. For convenience, we've provided them below:"
   ]
  },
  {
   "cell_type": "code",
   "execution_count": 40,
   "metadata": {},
   "outputs": [],
   "source": [
    "from sagemaker.debugger import Rule, rule_configs\n",
    "from sagemaker.session import TrainingInput\n",
    "model_inputs = {\n",
    "        \"train\": sagemaker.inputs.TrainingInput(\n",
    "            s3_data=f\"s3://{bucket}/train/\",\n",
    "            content_type=\"application/x-image\"\n",
    "        ),\n",
    "        \"validation\": sagemaker.inputs.TrainingInput(\n",
    "            s3_data=f\"s3://{bucket}/test/\",\n",
    "            content_type=\"application/x-image\"\n",
    "        ),\n",
    "        \"train_lst\": sagemaker.inputs.TrainingInput(\n",
    "            s3_data=f\"s3://{bucket}/train.lst\",\n",
    "            content_type=\"application/x-image\"\n",
    "        ),\n",
    "        \"validation_lst\": sagemaker.inputs.TrainingInput(\n",
    "            s3_data=f\"s3://{bucket}/test.lst\",\n",
    "            content_type=\"application/x-image\"\n",
    "        )\n",
    "}"
   ]
  },
  {
   "cell_type": "markdown",
   "metadata": {},
   "source": [
    "Great, now we can train the model using the model_inputs. In the cell below, call the `fit` method on our model,:"
   ]
  },
  {
   "cell_type": "code",
   "execution_count": 44,
   "metadata": {},
   "outputs": [
    {
     "name": "stderr",
     "output_type": "stream",
     "text": [
      "INFO:sagemaker:Creating training-job with name: image-classification-2023-09-09-05-41-48-422\n"
     ]
    },
    {
     "name": "stdout",
     "output_type": "stream",
     "text": [
      "2023-09-09 05:41:48 Starting - Starting the training job...\n",
      "2023-09-09 05:42:13 Starting - Preparing the instances for training.........\n",
      "2023-09-09 05:43:25 Downloading - Downloading input data......\n",
      "2023-09-09 05:44:30 Training - Downloading the training image.........\n",
      "2023-09-09 05:46:11 Training - Training image download completed. Training in progress....\u001b[34mDocker entrypoint called with argument(s): train\u001b[0m\n",
      "\u001b[34mRunning default environment configuration script\u001b[0m\n",
      "\u001b[34mNvidia gpu devices, drivers and cuda toolkit versions (only available on hosts with GPU):\u001b[0m\n",
      "\u001b[34mSat Sep  9 05:46:35 2023       \u001b[0m\n",
      "\u001b[34m+---------------------------------------------------------------------------------------+\u001b[0m\n",
      "\u001b[34m| NVIDIA-SMI 535.54.03              Driver Version: 535.54.03    CUDA Version: 12.2     |\u001b[0m\n",
      "\u001b[34m|-----------------------------------------+----------------------+----------------------+\u001b[0m\n",
      "\u001b[34m| GPU  Name                 Persistence-M | Bus-Id        Disp.A | Volatile Uncorr. ECC |\u001b[0m\n",
      "\u001b[34m| Fan  Temp   Perf          Pwr:Usage/Cap |         Memory-Usage | GPU-Util  Compute M. |\u001b[0m\n",
      "\u001b[34m|                                         |                      |               MIG M. |\u001b[0m\n",
      "\u001b[34m|=========================================+======================+======================|\u001b[0m\n",
      "\u001b[34m|   0  Tesla V100-SXM2-16GB           On  | 00000000:00:1E.0 Off |                    0 |\u001b[0m\n",
      "\u001b[34m| N/A   41C    P0              26W / 300W |      0MiB / 16384MiB |      0%      Default |\u001b[0m\n",
      "\u001b[34m|                                         |                      |                  N/A |\u001b[0m\n",
      "\u001b[34m+-----------------------------------------+----------------------+----------------------+\n",
      "                                                                                         \u001b[0m\n",
      "\u001b[34m+---------------------------------------------------------------------------------------+\u001b[0m\n",
      "\u001b[34m| Processes:                                                                            |\u001b[0m\n",
      "\u001b[34m|  GPU   GI   CI        PID   Type   Process name                            GPU Memory |\u001b[0m\n",
      "\u001b[34m|        ID   ID                                                             Usage      |\u001b[0m\n",
      "\u001b[34m|=======================================================================================|\u001b[0m\n",
      "\u001b[34m|  No running processes found                                                           |\u001b[0m\n",
      "\u001b[34m+---------------------------------------------------------------------------------------+\u001b[0m\n",
      "\u001b[34mChecking for nvidia driver and cuda compatibility.\u001b[0m\n",
      "\u001b[34mCUDA Compatibility driver provided.\u001b[0m\n",
      "\u001b[34mProceeding with compatibility check between driver, cuda-toolkit and cuda-compat.\u001b[0m\n",
      "\u001b[34mDetected cuda-toolkit version: 11.1.\u001b[0m\n",
      "\u001b[34mDetected cuda-compat version: 455.32.00.\u001b[0m\n",
      "\u001b[34mDetected Nvidia driver version: 535.54.03.\u001b[0m\n",
      "\u001b[34mNvidia driver compatible with cuda-toolkit. Disabling cuda-compat.\u001b[0m\n",
      "\u001b[34m[09/09/2023 05:46:39 INFO 139643637851968] Reading default configuration from /opt/amazon/lib/python3.7/site-packages/image_classification/default-input.json: {'use_pretrained_model': 0, 'num_layers': 152, 'epochs': 30, 'learning_rate': 0.1, 'lr_scheduler_factor': 0.1, 'optimizer': 'sgd', 'momentum': 0, 'weight_decay': 0.0001, 'beta_1': 0.9, 'beta_2': 0.999, 'eps': 1e-08, 'gamma': 0.9, 'mini_batch_size': 32, 'image_shape': '3,224,224', 'precision_dtype': 'float32'}\u001b[0m\n",
      "\u001b[34m[09/09/2023 05:46:39 INFO 139643637851968] Merging with provided configuration from /opt/ml/input/config/hyperparameters.json: {'image_shape': '3,32,32', 'num_classes': '2', 'num_training_samples': '1000'}\u001b[0m\n",
      "\u001b[34m[09/09/2023 05:46:39 INFO 139643637851968] Final configuration: {'use_pretrained_model': 0, 'num_layers': 152, 'epochs': 30, 'learning_rate': 0.1, 'lr_scheduler_factor': 0.1, 'optimizer': 'sgd', 'momentum': 0, 'weight_decay': 0.0001, 'beta_1': 0.9, 'beta_2': 0.999, 'eps': 1e-08, 'gamma': 0.9, 'mini_batch_size': 32, 'image_shape': '3,32,32', 'precision_dtype': 'float32', 'num_classes': '2', 'num_training_samples': '1000'}\u001b[0m\n",
      "\u001b[34m[09/09/2023 05:46:39 INFO 139643637851968] Searching for .lst files in /opt/ml/input/data/train_lst.\u001b[0m\n",
      "\u001b[34m[09/09/2023 05:46:39 INFO 139643637851968] Creating record files for train.lst\u001b[0m\n",
      "\u001b[34m[09/09/2023 05:46:39 INFO 139643637851968] Done creating record files...\u001b[0m\n",
      "\u001b[34m[09/09/2023 05:46:39 INFO 139643637851968] Searching for .lst files in /opt/ml/input/data/validation_lst.\u001b[0m\n",
      "\u001b[34m[09/09/2023 05:46:39 INFO 139643637851968] Creating record files for test.lst\u001b[0m\n",
      "\u001b[34m[09/09/2023 05:46:39 INFO 139643637851968] Done creating record files...\u001b[0m\n",
      "\u001b[34m[09/09/2023 05:46:39 INFO 139643637851968] use_pretrained_model: 0\u001b[0m\n",
      "\u001b[34m[09/09/2023 05:46:39 INFO 139643637851968] multi_label: 0\u001b[0m\n",
      "\u001b[34m[09/09/2023 05:46:39 INFO 139643637851968] Performing random weight initialization\u001b[0m\n",
      "\u001b[34m[09/09/2023 05:46:39 INFO 139643637851968] ---- Parameters ----\u001b[0m\n",
      "\u001b[34m[09/09/2023 05:46:39 INFO 139643637851968] num_layers: 152\u001b[0m\n",
      "\u001b[34m[09/09/2023 05:46:39 INFO 139643637851968] data type: <class 'numpy.float32'>\u001b[0m\n",
      "\u001b[34m[09/09/2023 05:46:39 INFO 139643637851968] epochs: 30\u001b[0m\n",
      "\u001b[34m[09/09/2023 05:46:39 INFO 139643637851968] optimizer: sgd\u001b[0m\n",
      "\u001b[34m[09/09/2023 05:46:39 INFO 139643637851968] momentum: 0.9\u001b[0m\n",
      "\u001b[34m[09/09/2023 05:46:39 INFO 139643637851968] weight_decay: 0.0001\u001b[0m\n",
      "\u001b[34m[09/09/2023 05:46:39 INFO 139643637851968] learning_rate: 0.1\u001b[0m\n",
      "\u001b[34m[09/09/2023 05:46:39 INFO 139643637851968] num_training_samples: 1000\u001b[0m\n",
      "\u001b[34m[09/09/2023 05:46:39 INFO 139643637851968] mini_batch_size: 32\u001b[0m\n",
      "\u001b[34m[09/09/2023 05:46:39 INFO 139643637851968] image_shape: 3,32,32\u001b[0m\n",
      "\u001b[34m[09/09/2023 05:46:39 INFO 139643637851968] num_classes: 2\u001b[0m\n",
      "\u001b[34m[09/09/2023 05:46:39 INFO 139643637851968] augmentation_type: None\u001b[0m\n",
      "\u001b[34m[09/09/2023 05:46:39 INFO 139643637851968] kv_store: device\u001b[0m\n",
      "\u001b[34m[09/09/2023 05:46:39 INFO 139643637851968] checkpoint_frequency not set, will store the best model\u001b[0m\n",
      "\u001b[34m[09/09/2023 05:46:39 INFO 139643637851968] --------------------\u001b[0m\n",
      "\u001b[34m[09/09/2023 05:46:39 INFO 139643637851968] Setting number of threads: 7\u001b[0m\n",
      "\u001b[34m[05:46:43] /opt/brazil-pkg-cache/packages/AIAlgorithmsMXNet/AIAlgorithmsMXNet-1.4.x_ecl_Cuda_11.1.x.230.0/AL2_x86_64/generic-flavor/src/src/operator/nn/./cudnn/./cudnn_algoreg-inl.h:97: Running performance tests to find the best convolution algorithm, this can take a while... (setting env variable MXNET_CUDNN_AUTOTUNE_DEFAULT to 0 to disable)\u001b[0m\n",
      "\u001b[34m[09/09/2023 05:46:48 INFO 139643637851968] Epoch[0] Batch [20]#011Speed: 120.724 samples/sec#011accuracy=0.562500\u001b[0m\n",
      "\u001b[34m[09/09/2023 05:46:50 INFO 139643637851968] Epoch[0] Train-accuracy=0.576613\u001b[0m\n",
      "\u001b[34m[09/09/2023 05:46:50 INFO 139643637851968] Epoch[0] Time cost=6.999\u001b[0m\n",
      "\u001b[34m[09/09/2023 05:46:51 INFO 139643637851968] Epoch[0] Validation-accuracy=0.505208\u001b[0m\n",
      "\u001b[34m[09/09/2023 05:46:51 INFO 139643637851968] Storing the best model with validation accuracy: 0.505208\u001b[0m\n",
      "\u001b[34m[09/09/2023 05:46:51 INFO 139643637851968] Saved checkpoint to \"/opt/ml/model/image-classification-0001.params\"\u001b[0m\n",
      "\u001b[34m[09/09/2023 05:46:55 INFO 139643637851968] Epoch[1] Batch [20]#011Speed: 182.229 samples/sec#011accuracy=0.696429\u001b[0m\n",
      "\u001b[34m[09/09/2023 05:46:57 INFO 139643637851968] Epoch[1] Train-accuracy=0.697581\u001b[0m\n",
      "\u001b[34m[09/09/2023 05:46:57 INFO 139643637851968] Epoch[1] Time cost=5.227\u001b[0m\n",
      "\u001b[34m[09/09/2023 05:46:57 INFO 139643637851968] Epoch[1] Validation-accuracy=0.708333\u001b[0m\n",
      "\u001b[34m[09/09/2023 05:46:58 INFO 139643637851968] Storing the best model with validation accuracy: 0.708333\u001b[0m\n",
      "\u001b[34m[09/09/2023 05:46:58 INFO 139643637851968] Saved checkpoint to \"/opt/ml/model/image-classification-0002.params\"\u001b[0m\n",
      "\u001b[34m[09/09/2023 05:47:01 INFO 139643637851968] Epoch[2] Batch [20]#011Speed: 184.326 samples/sec#011accuracy=0.700893\u001b[0m\n",
      "\u001b[34m[09/09/2023 05:47:03 INFO 139643637851968] Epoch[2] Train-accuracy=0.693548\u001b[0m\n",
      "\u001b[34m[09/09/2023 05:47:03 INFO 139643637851968] Epoch[2] Time cost=5.243\u001b[0m\n",
      "\u001b[34m[09/09/2023 05:47:04 INFO 139643637851968] Epoch[2] Validation-accuracy=0.802083\u001b[0m\n",
      "\u001b[34m[09/09/2023 05:47:04 INFO 139643637851968] Storing the best model with validation accuracy: 0.802083\u001b[0m\n",
      "\u001b[34m[09/09/2023 05:47:04 INFO 139643637851968] Saved checkpoint to \"/opt/ml/model/image-classification-0003.params\"\u001b[0m\n",
      "\u001b[34m[09/09/2023 05:47:08 INFO 139643637851968] Epoch[3] Batch [20]#011Speed: 184.078 samples/sec#011accuracy=0.735119\u001b[0m\n",
      "\u001b[34m[09/09/2023 05:47:10 INFO 139643637851968] Epoch[3] Train-accuracy=0.764113\u001b[0m\n",
      "\u001b[34m[09/09/2023 05:47:10 INFO 139643637851968] Epoch[3] Time cost=5.180\u001b[0m\n",
      "\u001b[34m[09/09/2023 05:47:10 INFO 139643637851968] Epoch[3] Validation-accuracy=0.790179\u001b[0m\n",
      "\u001b[34m[09/09/2023 05:47:14 INFO 139643637851968] Epoch[4] Batch [20]#011Speed: 184.336 samples/sec#011accuracy=0.784226\u001b[0m\n",
      "\u001b[34m[09/09/2023 05:47:16 INFO 139643637851968] Epoch[4] Train-accuracy=0.780242\u001b[0m\n",
      "\u001b[34m[09/09/2023 05:47:16 INFO 139643637851968] Epoch[4] Time cost=5.186\u001b[0m\n",
      "\u001b[34m[09/09/2023 05:47:16 INFO 139643637851968] Epoch[4] Validation-accuracy=0.822917\u001b[0m\n",
      "\u001b[34m[09/09/2023 05:47:17 INFO 139643637851968] Storing the best model with validation accuracy: 0.822917\u001b[0m\n",
      "\u001b[34m[09/09/2023 05:47:17 INFO 139643637851968] Saved checkpoint to \"/opt/ml/model/image-classification-0005.params\"\u001b[0m\n",
      "\u001b[34m[09/09/2023 05:47:20 INFO 139643637851968] Epoch[5] Batch [20]#011Speed: 185.523 samples/sec#011accuracy=0.821429\u001b[0m\n",
      "\u001b[34m[09/09/2023 05:47:22 INFO 139643637851968] Epoch[5] Train-accuracy=0.819556\u001b[0m\n",
      "\u001b[34m[09/09/2023 05:47:22 INFO 139643637851968] Epoch[5] Time cost=5.140\u001b[0m\n",
      "\u001b[34m[09/09/2023 05:47:23 INFO 139643637851968] Epoch[5] Validation-accuracy=0.619792\u001b[0m\n",
      "\u001b[34m[09/09/2023 05:47:27 INFO 139643637851968] Epoch[6] Batch [20]#011Speed: 183.444 samples/sec#011accuracy=0.794643\u001b[0m\n",
      "\u001b[34m[09/09/2023 05:47:28 INFO 139643637851968] Epoch[6] Train-accuracy=0.807460\u001b[0m\n",
      "\u001b[34m[09/09/2023 05:47:28 INFO 139643637851968] Epoch[6] Time cost=5.207\u001b[0m\n",
      "\u001b[34m[09/09/2023 05:47:29 INFO 139643637851968] Epoch[6] Validation-accuracy=0.781250\u001b[0m\n",
      "\u001b[34m[09/09/2023 05:47:33 INFO 139643637851968] Epoch[7] Batch [20]#011Speed: 183.738 samples/sec#011accuracy=0.812500\u001b[0m\n",
      "\u001b[34m[09/09/2023 05:47:34 INFO 139643637851968] Epoch[7] Train-accuracy=0.809476\u001b[0m\n",
      "\u001b[34m[09/09/2023 05:47:34 INFO 139643637851968] Epoch[7] Time cost=5.203\u001b[0m\n",
      "\u001b[34m[09/09/2023 05:47:35 INFO 139643637851968] Epoch[7] Validation-accuracy=0.750000\u001b[0m\n",
      "\u001b[34m[09/09/2023 05:47:39 INFO 139643637851968] Epoch[8] Batch [20]#011Speed: 182.312 samples/sec#011accuracy=0.830357\u001b[0m\n",
      "\u001b[34m[09/09/2023 05:47:41 INFO 139643637851968] Epoch[8] Train-accuracy=0.831653\u001b[0m\n",
      "\u001b[34m[09/09/2023 05:47:41 INFO 139643637851968] Epoch[8] Time cost=5.230\u001b[0m\n",
      "\u001b[34m[09/09/2023 05:47:41 INFO 139643637851968] Epoch[8] Validation-accuracy=0.843750\u001b[0m\n",
      "\u001b[34m[09/09/2023 05:47:42 INFO 139643637851968] Storing the best model with validation accuracy: 0.843750\u001b[0m\n",
      "\u001b[34m[09/09/2023 05:47:42 INFO 139643637851968] Saved checkpoint to \"/opt/ml/model/image-classification-0009.params\"\u001b[0m\n",
      "\u001b[34m[09/09/2023 05:47:45 INFO 139643637851968] Epoch[9] Batch [20]#011Speed: 182.601 samples/sec#011accuracy=0.837798\u001b[0m\n",
      "\u001b[34m[09/09/2023 05:47:47 INFO 139643637851968] Epoch[9] Train-accuracy=0.829637\u001b[0m\n",
      "\u001b[34m[09/09/2023 05:47:47 INFO 139643637851968] Epoch[9] Time cost=5.205\u001b[0m\n",
      "\u001b[34m[09/09/2023 05:47:48 INFO 139643637851968] Epoch[9] Validation-accuracy=0.822917\u001b[0m\n",
      "\u001b[34m[09/09/2023 05:47:52 INFO 139643637851968] Epoch[10] Batch [20]#011Speed: 184.062 samples/sec#011accuracy=0.833333\u001b[0m\n",
      "\u001b[34m[09/09/2023 05:47:53 INFO 139643637851968] Epoch[10] Train-accuracy=0.840726\u001b[0m\n",
      "\u001b[34m[09/09/2023 05:47:53 INFO 139643637851968] Epoch[10] Time cost=5.185\u001b[0m\n",
      "\u001b[34m[09/09/2023 05:47:54 INFO 139643637851968] Epoch[10] Validation-accuracy=0.854167\u001b[0m\n",
      "\u001b[34m[09/09/2023 05:47:54 INFO 139643637851968] Storing the best model with validation accuracy: 0.854167\u001b[0m\n",
      "\u001b[34m[09/09/2023 05:47:55 INFO 139643637851968] Saved checkpoint to \"/opt/ml/model/image-classification-0011.params\"\u001b[0m\n",
      "\u001b[34m[09/09/2023 05:47:58 INFO 139643637851968] Epoch[11] Batch [20]#011Speed: 183.320 samples/sec#011accuracy=0.848214\u001b[0m\n",
      "\u001b[34m[09/09/2023 05:48:00 INFO 139643637851968] Epoch[11] Train-accuracy=0.833669\u001b[0m\n",
      "\u001b[34m[09/09/2023 05:48:00 INFO 139643637851968] Epoch[11] Time cost=5.190\u001b[0m\n",
      "\u001b[34m[09/09/2023 05:48:00 INFO 139643637851968] Epoch[11] Validation-accuracy=0.803571\u001b[0m\n",
      "\u001b[34m[09/09/2023 05:48:04 INFO 139643637851968] Epoch[12] Batch [20]#011Speed: 177.814 samples/sec#011accuracy=0.839286\u001b[0m\n",
      "\u001b[34m[09/09/2023 05:48:06 INFO 139643637851968] Epoch[12] Train-accuracy=0.832661\u001b[0m\n",
      "\u001b[34m[09/09/2023 05:48:06 INFO 139643637851968] Epoch[12] Time cost=5.308\u001b[0m\n",
      "\u001b[34m[09/09/2023 05:48:07 INFO 139643637851968] Epoch[12] Validation-accuracy=0.822917\u001b[0m\n",
      "\u001b[34m[09/09/2023 05:48:11 INFO 139643637851968] Epoch[13] Batch [20]#011Speed: 184.436 samples/sec#011accuracy=0.837798\u001b[0m\n",
      "\u001b[34m[09/09/2023 05:48:12 INFO 139643637851968] Epoch[13] Train-accuracy=0.849798\u001b[0m\n",
      "\u001b[34m[09/09/2023 05:48:12 INFO 139643637851968] Epoch[13] Time cost=5.177\u001b[0m\n",
      "\u001b[34m[09/09/2023 05:48:13 INFO 139643637851968] Epoch[13] Validation-accuracy=0.838542\u001b[0m\n",
      "\u001b[34m[09/09/2023 05:48:17 INFO 139643637851968] Epoch[14] Batch [20]#011Speed: 183.873 samples/sec#011accuracy=0.875000\u001b[0m\n",
      "\u001b[34m[09/09/2023 05:48:18 INFO 139643637851968] Epoch[14] Train-accuracy=0.872984\u001b[0m\n",
      "\u001b[34m[09/09/2023 05:48:18 INFO 139643637851968] Epoch[14] Time cost=5.188\u001b[0m\n",
      "\u001b[34m[09/09/2023 05:48:19 INFO 139643637851968] Epoch[14] Validation-accuracy=0.838542\u001b[0m\n",
      "\u001b[34m[09/09/2023 05:48:23 INFO 139643637851968] Epoch[15] Batch [20]#011Speed: 183.893 samples/sec#011accuracy=0.885417\u001b[0m\n",
      "\u001b[34m[09/09/2023 05:48:25 INFO 139643637851968] Epoch[15] Train-accuracy=0.876008\u001b[0m\n",
      "\u001b[34m[09/09/2023 05:48:25 INFO 139643637851968] Epoch[15] Time cost=5.195\u001b[0m\n",
      "\u001b[34m[09/09/2023 05:48:25 INFO 139643637851968] Epoch[15] Validation-accuracy=0.857143\u001b[0m\n",
      "\u001b[34m[09/09/2023 05:48:25 INFO 139643637851968] Storing the best model with validation accuracy: 0.857143\u001b[0m\n",
      "\u001b[34m[09/09/2023 05:48:26 INFO 139643637851968] Saved checkpoint to \"/opt/ml/model/image-classification-0016.params\"\u001b[0m\n",
      "\u001b[34m[09/09/2023 05:48:30 INFO 139643637851968] Epoch[16] Batch [20]#011Speed: 183.440 samples/sec#011accuracy=0.901786\u001b[0m\n",
      "\u001b[34m[09/09/2023 05:48:31 INFO 139643637851968] Epoch[16] Train-accuracy=0.892137\u001b[0m\n",
      "\u001b[34m[09/09/2023 05:48:31 INFO 139643637851968] Epoch[16] Time cost=5.204\u001b[0m\n",
      "\u001b[34m[09/09/2023 05:48:32 INFO 139643637851968] Epoch[16] Validation-accuracy=0.807292\u001b[0m\n",
      "\u001b[34m[09/09/2023 05:48:36 INFO 139643637851968] Epoch[17] Batch [20]#011Speed: 185.346 samples/sec#011accuracy=0.924107\u001b[0m\n",
      "\u001b[34m[09/09/2023 05:48:38 INFO 139643637851968] Epoch[17] Train-accuracy=0.919355\u001b[0m\n",
      "\u001b[34m[09/09/2023 05:48:38 INFO 139643637851968] Epoch[17] Time cost=5.167\u001b[0m\n",
      "\u001b[34m[09/09/2023 05:48:38 INFO 139643637851968] Epoch[17] Validation-accuracy=0.776042\u001b[0m\n",
      "\u001b[34m[09/09/2023 05:48:42 INFO 139643637851968] Epoch[18] Batch [20]#011Speed: 182.388 samples/sec#011accuracy=0.806548\u001b[0m\n",
      "\u001b[34m[09/09/2023 05:48:44 INFO 139643637851968] Epoch[18] Train-accuracy=0.830645\u001b[0m\n",
      "\u001b[34m[09/09/2023 05:48:44 INFO 139643637851968] Epoch[18] Time cost=5.219\u001b[0m\n",
      "\u001b[34m[09/09/2023 05:48:44 INFO 139643637851968] Epoch[18] Validation-accuracy=0.854167\u001b[0m\n",
      "\u001b[34m[09/09/2023 05:48:48 INFO 139643637851968] Epoch[19] Batch [20]#011Speed: 184.841 samples/sec#011accuracy=0.913690\u001b[0m\n",
      "\u001b[34m[09/09/2023 05:48:50 INFO 139643637851968] Epoch[19] Train-accuracy=0.915323\u001b[0m\n",
      "\u001b[34m[09/09/2023 05:48:50 INFO 139643637851968] Epoch[19] Time cost=5.153\u001b[0m\n",
      "\u001b[34m[09/09/2023 05:48:50 INFO 139643637851968] Epoch[19] Validation-accuracy=0.857143\u001b[0m\n",
      "\u001b[34m[09/09/2023 05:48:54 INFO 139643637851968] Epoch[20] Batch [20]#011Speed: 184.933 samples/sec#011accuracy=0.927083\u001b[0m\n",
      "\u001b[34m[09/09/2023 05:48:56 INFO 139643637851968] Epoch[20] Train-accuracy=0.928427\u001b[0m\n",
      "\u001b[34m[09/09/2023 05:48:56 INFO 139643637851968] Epoch[20] Time cost=5.161\u001b[0m\n",
      "\u001b[34m[09/09/2023 05:48:57 INFO 139643637851968] Epoch[20] Validation-accuracy=0.843750\u001b[0m\n",
      "\u001b[34m[09/09/2023 05:49:01 INFO 139643637851968] Epoch[21] Batch [20]#011Speed: 184.527 samples/sec#011accuracy=0.955357\u001b[0m\n",
      "\u001b[34m[09/09/2023 05:49:02 INFO 139643637851968] Epoch[21] Train-accuracy=0.954637\u001b[0m\n",
      "\u001b[34m[09/09/2023 05:49:02 INFO 139643637851968] Epoch[21] Time cost=5.261\u001b[0m\n",
      "\u001b[34m[09/09/2023 05:49:03 INFO 139643637851968] Epoch[21] Validation-accuracy=0.848958\u001b[0m\n",
      "\u001b[34m[09/09/2023 05:49:07 INFO 139643637851968] Epoch[22] Batch [20]#011Speed: 185.461 samples/sec#011accuracy=0.944940\u001b[0m\n",
      "\u001b[34m[09/09/2023 05:49:09 INFO 139643637851968] Epoch[22] Train-accuracy=0.940524\u001b[0m\n",
      "\u001b[34m[09/09/2023 05:49:09 INFO 139643637851968] Epoch[22] Time cost=5.148\u001b[0m\n",
      "\u001b[34m[09/09/2023 05:49:09 INFO 139643637851968] Epoch[22] Validation-accuracy=0.828125\u001b[0m\n",
      "\u001b[34m[09/09/2023 05:49:13 INFO 139643637851968] Epoch[23] Batch [20]#011Speed: 186.522 samples/sec#011accuracy=0.962798\u001b[0m\n",
      "\u001b[34m[09/09/2023 05:49:15 INFO 139643637851968] Epoch[23] Train-accuracy=0.956653\u001b[0m\n",
      "\u001b[34m[09/09/2023 05:49:15 INFO 139643637851968] Epoch[23] Time cost=5.136\u001b[0m\n",
      "\u001b[34m[09/09/2023 05:49:15 INFO 139643637851968] Epoch[23] Validation-accuracy=0.794643\u001b[0m\n",
      "\u001b[34m[09/09/2023 05:49:19 INFO 139643637851968] Epoch[24] Batch [20]#011Speed: 185.617 samples/sec#011accuracy=0.953869\u001b[0m\n",
      "\u001b[34m[09/09/2023 05:49:21 INFO 139643637851968] Epoch[24] Train-accuracy=0.956653\u001b[0m\n",
      "\u001b[34m[09/09/2023 05:49:21 INFO 139643637851968] Epoch[24] Time cost=5.157\u001b[0m\n",
      "\u001b[34m[09/09/2023 05:49:21 INFO 139643637851968] Epoch[24] Validation-accuracy=0.854167\u001b[0m\n",
      "\u001b[34m[09/09/2023 05:49:25 INFO 139643637851968] Epoch[25] Batch [20]#011Speed: 184.674 samples/sec#011accuracy=0.964286\u001b[0m\n",
      "\u001b[34m[09/09/2023 05:49:27 INFO 139643637851968] Epoch[25] Train-accuracy=0.956653\u001b[0m\n",
      "\u001b[34m[09/09/2023 05:49:27 INFO 139643637851968] Epoch[25] Time cost=5.172\u001b[0m\n",
      "\u001b[34m[09/09/2023 05:49:28 INFO 139643637851968] Epoch[25] Validation-accuracy=0.781250\u001b[0m\n",
      "\u001b[34m[09/09/2023 05:49:31 INFO 139643637851968] Epoch[26] Batch [20]#011Speed: 185.979 samples/sec#011accuracy=0.946429\u001b[0m\n",
      "\u001b[34m[09/09/2023 05:49:33 INFO 139643637851968] Epoch[26] Train-accuracy=0.949597\u001b[0m\n",
      "\u001b[34m[09/09/2023 05:49:33 INFO 139643637851968] Epoch[26] Time cost=5.132\u001b[0m\n",
      "\u001b[34m[09/09/2023 05:49:34 INFO 139643637851968] Epoch[26] Validation-accuracy=0.812500\u001b[0m\n",
      "\u001b[34m[09/09/2023 05:49:38 INFO 139643637851968] Epoch[27] Batch [20]#011Speed: 184.150 samples/sec#011accuracy=0.979167\u001b[0m\n",
      "\u001b[34m[09/09/2023 05:49:39 INFO 139643637851968] Epoch[27] Train-accuracy=0.974798\u001b[0m\n",
      "\u001b[34m[09/09/2023 05:49:39 INFO 139643637851968] Epoch[27] Time cost=5.185\u001b[0m\n",
      "\u001b[34m[09/09/2023 05:49:40 INFO 139643637851968] Epoch[27] Validation-accuracy=0.839286\u001b[0m\n",
      "\n",
      "2023-09-09 05:49:57 Uploading - Uploading generated training model\u001b[34m[09/09/2023 05:49:44 INFO 139643637851968] Epoch[28] Batch [20]#011Speed: 186.151 samples/sec#011accuracy=0.983631\u001b[0m\n",
      "\u001b[34m[09/09/2023 05:49:46 INFO 139643637851968] Epoch[28] Train-accuracy=0.978831\u001b[0m\n",
      "\u001b[34m[09/09/2023 05:49:46 INFO 139643637851968] Epoch[28] Time cost=5.132\u001b[0m\n",
      "\u001b[34m[09/09/2023 05:49:46 INFO 139643637851968] Epoch[28] Validation-accuracy=0.843750\u001b[0m\n",
      "\u001b[34m[09/09/2023 05:49:50 INFO 139643637851968] Epoch[29] Batch [20]#011Speed: 184.561 samples/sec#011accuracy=0.976190\u001b[0m\n",
      "\u001b[34m[09/09/2023 05:49:52 INFO 139643637851968] Epoch[29] Train-accuracy=0.977823\u001b[0m\n",
      "\u001b[34m[09/09/2023 05:49:52 INFO 139643637851968] Epoch[29] Time cost=5.184\u001b[0m\n",
      "\u001b[34m[09/09/2023 05:49:52 INFO 139643637851968] Epoch[29] Validation-accuracy=0.812500\u001b[0m\n",
      "\n",
      "2023-09-09 05:50:28 Completed - Training job completed\n",
      "Training seconds: 423\n",
      "Billable seconds: 423\n"
     ]
    }
   ],
   "source": [
    "## TODO: train your model\n",
    "\n",
    "img_classifier_model.fit(model_inputs)"
   ]
  },
  {
   "cell_type": "markdown",
   "metadata": {},
   "source": [
    "If all goes well, you'll end up with a model topping out above `.8` validation accuracy. With only 1000 training samples in the CIFAR dataset, that's pretty good. We could definitely pursue data augmentation & gathering more samples to help us improve further, but for now let's proceed to deploy our model.\n",
    "\n",
    "### Getting ready to deploy\n",
    "\n",
    "To begin with, let's configure Model Monitor to track our deployment. We'll define a `DataCaptureConfig` below:"
   ]
  },
  {
   "cell_type": "code",
   "execution_count": 46,
   "metadata": {},
   "outputs": [],
   "source": [
    "from sagemaker.model_monitor import DataCaptureConfig\n",
    "\n",
    "data_capture_config = DataCaptureConfig(\n",
    "    ## TODO: Set config options\n",
    "    enable_capture=True,\n",
    "    sampling_percentage=100,\n",
    "    destination_s3_uri=f\"s3://{bucket}/data_capture\"\n",
    ")"
   ]
  },
  {
   "cell_type": "markdown",
   "metadata": {},
   "source": [
    "Note the `destination_s3_uri` parameter: At the end of the project, we can explore the `data_capture` directory in S3 to find crucial data about the inputs and outputs Model Monitor has observed on our model endpoint over time.\n",
    "\n",
    "With that done, deploy your model on a single `ml.m5.xlarge` instance with the data capture config attached:"
   ]
  },
  {
   "cell_type": "code",
   "execution_count": 47,
   "metadata": {},
   "outputs": [
    {
     "name": "stderr",
     "output_type": "stream",
     "text": [
      "INFO:sagemaker:Creating model with name: image-classification-2023-09-09-05-51-59-935\n",
      "INFO:sagemaker:Creating endpoint-config with name image-classification-2023-09-09-05-51-59-935\n",
      "INFO:sagemaker:Creating endpoint with name image-classification-2023-09-09-05-51-59-935\n"
     ]
    },
    {
     "name": "stdout",
     "output_type": "stream",
     "text": [
      "-------!image-classification-2023-09-09-05-51-59-935\n"
     ]
    }
   ],
   "source": [
    "deployment = img_classifier_model.deploy(\n",
    "    ## TODO: fill in deployment options\n",
    "    initial_instance_count=1,\n",
    "    instance_type='ml.m5.xlarge',\n",
    "    data_capture_config=data_capture_config\n",
    "    )\n",
    "\n",
    "endpoint = deployment.endpoint_name\n",
    "print(endpoint)"
   ]
  },
  {
   "cell_type": "markdown",
   "metadata": {},
   "source": [
    "Note the endpoint name for later as well.\n",
    "\n",
    "Next, instantiate a Predictor:"
   ]
  },
  {
   "cell_type": "code",
   "execution_count": 48,
   "metadata": {},
   "outputs": [],
   "source": [
    "from sagemaker.predictor import Predictor\n",
    "predictor = Predictor(endpoint)\n",
    "\n",
    "## TODO: fill in"
   ]
  },
  {
   "cell_type": "markdown",
   "metadata": {},
   "source": [
    "In the code snippet below we are going to prepare one of your saved images for prediction. Use the predictor to process the `payload`."
   ]
  },
  {
   "cell_type": "code",
   "execution_count": 49,
   "metadata": {},
   "outputs": [],
   "source": [
    "from sagemaker.serializers import IdentitySerializer\n",
    "import base64\n",
    "\n",
    "predictor.serializer = IdentitySerializer(\"image/png\")\n",
    "with open(\"./test/bicycle_s_001789.png\", \"rb\") as f:\n",
    "    payload = f.read()\n",
    "\n",
    "    \n",
    "inference = predictor.predict(payload)\n",
    "## TODO: Process the payload with your predictor"
   ]
  },
  {
   "cell_type": "markdown",
   "metadata": {},
   "source": [
    "Your `inference` object is an array of two values, the predicted probability value for each of your classes (bicycle and motorcycle respectively.) So, for example, a value of `b'[0.91, 0.09]'` indicates the probability of being a bike is 91% and being a motorcycle is 9%."
   ]
  },
  {
   "cell_type": "code",
   "execution_count": null,
   "metadata": {},
   "outputs": [
    {
     "name": "stdout",
     "output_type": "stream",
     "text": [
      "b'[0.8156489133834839, 0.1843511164188385]'\n"
     ]
    }
   ],
   "source": [
    "print(inference)"
   ]
  },
  {
   "cell_type": "markdown",
   "metadata": {},
   "source": [
    "### Draft Lambdas and Step Function Workflow\n",
    "\n",
    "Your operations team uses Step Functions to orchestrate serverless workflows. One of the nice things about Step Functions is that [workflows can call other workflows](https://docs.aws.amazon.com/step-functions/latest/dg/connect-stepfunctions.html), so the team can easily plug your workflow into the broader production architecture for Scones Unlimited.\n",
    "\n",
    "In this next stage you're going to write and deploy three Lambda functions, and then use the Step Functions visual editor to chain them together! Our functions are going to work with a simple data object:\n",
    "\n",
    "```python\n",
    "{\n",
    "    \"inferences\": [], # Output of predictor.predict\n",
    "    \"s3_key\": \"\", # Source data S3 key\n",
    "    \"s3_bucket\": \"\", # Source data S3 bucket\n",
    "    \"image_data\": \"\"  # base64 encoded string containing the image data\n",
    "}\n",
    "```\n",
    "\n",
    "A good test object that you can use for Lambda tests and Step Function executions, throughout the next section, might look like this:\n",
    "\n",
    "```python\n",
    "{\n",
    "  \"image_data\": \"\",\n",
    "  \"s3_bucket\": MY_BUCKET_NAME, # Fill in with your bucket\n",
    "  \"s3_key\": \"test/bicycle_s_000513.png\"\n",
    "}\n",
    "```\n",
    "\n",
    "Using these fields, your functions can read and write the necessary data to execute your workflow. Let's start with the first function. Your first Lambda function will copy an object from S3, base64 encode it, and then return it to the step function as `image_data` in an event.\n",
    "\n",
    "Go to the Lambda dashboard and create a new Lambda function with a descriptive name like \"serializeImageData\" and select thr 'Python 3.8' runtime. Add the same permissions as the SageMaker role you created earlier. (Reminder: you do this in the Configuration tab under \"Permissions\"). Once you're ready, use the starter code below to craft your Lambda handler:\n",
    "\n",
    "```python\n",
    "import json\n",
    "import boto3\n",
    "import base64\n",
    "\n",
    "s3 = boto3.client('s3')\n",
    "\n",
    "def lambda_handler(event, context):\n",
    "    \"\"\"A function to serialize target data from S3\"\"\"\n",
    "    \n",
    "    # Get the s3 address from the Step Function event input\n",
    "    key = event['s3_key']\n",
    "    bucket = event['s3_bucket']\n",
    "    \n",
    "    # Download the data from s3 to /tmp/image.png\n",
    "    ## TODO: fill in\n",
    "    s3.download_file(bucket, key, '/tmp/image.png')\n",
    "    \n",
    "    # We read the data from a file\n",
    "    with open(\"/tmp/image.png\", \"rb\") as f:\n",
    "        image_data = base64.b64encode(f.read())\n",
    "\n",
    "    # Pass the data back to the Step Function\n",
    "    print(\"Event:\", event.keys())\n",
    "    return {\n",
    "        'statusCode': 200,\n",
    "        'body': {\n",
    "            \"image_data\": image_data,\n",
    "            \"s3_bucket\": bucket,\n",
    "            \"s3_key\": key,\n",
    "            \"inferences\": []\n",
    "        }\n",
    "    }\n",
    "```\n",
    "\n",
    "The next function is responsible for the classification part - we're going to take the image output from the previous function, decode it, and then pass inferences back to the the Step Function.\n",
    "\n",
    "Because this Lambda will have runtime dependencies (i.e. the SageMaker SDK) you'll need to package them in your function. *Key reading:* https://docs.aws.amazon.com/lambda/latest/dg/python-package-create.html#python-package-create-with-dependency\n",
    "\n",
    "Create a new Lambda function with the same rights and a descriptive name, then fill in the starter code below for your classifier Lambda.\n",
    "\n",
    "```python\n",
    "import json\n",
    "import base64\n",
    "\n",
    "import subprocess\n",
    "import sys\n",
    "subprocess.call('pip install sagemaker -t /tmp/ --no-cache-dir'.split(), stdout=subprocess.DEVNULL, stderr=subprocess.DEVNULL)\n",
    "sys.path.insert(1, '/tmp/')\n",
    "\n",
    "import sagemaker\n",
    "from sagemaker.serializers import IdentitySerializer\n",
    "from sagemaker.predictor import Predictor\n",
    "# Fill this in with the name of your deployed model\n",
    "ENDPOINT = \"image-classification-2023-09-09-05-51-59-935\"\n",
    "\n",
    "def lambda_handler(event, context):\n",
    "\n",
    "    # Decode the image data\n",
    "    image = base64.b64decode(event['image_data'])\n",
    "\n",
    "    # Instantiate a Predictor\n",
    "    predictor = Predictor(endpoint)\n",
    "\n",
    "    # For this model the IdentitySerializer needs to be \"image/png\"\n",
    "    predictor.serializer = IdentitySerializer(\"image/png\")\n",
    "    \n",
    "    # Make a prediction:\n",
    "    inferences = predictor.predict(image)\n",
    "    \n",
    "    # We return the data back to the Step Function    \n",
    "    event[\"inferences\"] = inferences.decode('utf-8')\n",
    "    return {\n",
    "        'statusCode': 200,\n",
    "        'body': event\n",
    "    }\n",
    "```\n",
    "\n",
    "Finally, we need to filter low-confidence inferences. Define a threshold between 1.00 and 0.000 for your model: what is reasonble for you? If the model predicts at `.70` for it's highest confidence label, do we want to pass that inference along to downstream systems? Make one last Lambda function and tee up the same permissions:\n",
    "\n",
    "```python\n",
    "import json\n",
    "\n",
    "\n",
    "THRESHOLD = .93\n",
    "\n",
    "\n",
    "def lambda_handler(event, context):\n",
    "    \n",
    "    # Grab the inferences from the event\n",
    "    inferences = event[\"inferences\"].split(\",\")\n",
    "    \n",
    "    # Check if any values in our inferences are above THRESHOLD\n",
    "    meets_threshold = (float(inferences[0][1:]) > THRESHOLD) or  (float(inferences[1][:-1]) > THRESHOLD)\n",
    "    \n",
    "    # If our threshold is met, pass our data back out of the\n",
    "    # Step Function, else, end the Step Function with an error\n",
    "    if meets_threshold:\n",
    "        pass\n",
    "    else:\n",
    "        return {\n",
    "            'statusCode': 200,\n",
    "            'body': 'THRESHOLD_CONFIDENCE_NOT_MET',\n",
    "        }\n",
    "\n",
    "    return {\n",
    "        'statusCode': 200,\n",
    "        'body': event\n",
    "    }\n",
    "```\n",
    "Once you have tested the lambda functions, save the code for each lambda function in a python script called 'lambda.py'.\n",
    "\n",
    "With your lambdas in place, you can use the Step Functions visual editor to construct a workflow that chains them together. In the Step Functions console you'll have the option to author a Standard step function *Visually*.\n",
    "\n",
    "When the visual editor opens, you'll have many options to add transitions in your workflow. We're going to keep it simple and have just one: to invoke Lambda functions. Add three of them chained together. For each one, you'll be able to select the Lambda functions you just created in the proper order, filter inputs and outputs, and give them descriptive names.\n",
    "\n",
    "Make sure that you:\n",
    "\n",
    "1. Are properly filtering the inputs and outputs of your invokations (e.g. `$.body`)\n",
    "2. Take care to remove the error handling from the last function - it's supposed to \"fail loudly\" for your operations colleagues!\n",
    "\n",
    "Take a screenshot of your working step function in action and export the step function as JSON for your submission package."
   ]
  },
  {
   "cell_type": "markdown",
   "metadata": {},
   "source": [
    "\n",
    "Great! Now you can use the files in `./test` as test files for our workflow. Depending on our threshold, our workflow should reliably pass predictions about images from `./test` on to downstream systems, while erroring out for inferences below our confidence threshold!\n",
    "\n",
    "### Testing and Evaluation\n",
    "\n",
    "Do several step function invokations using data from the `./test` folder. This process should give you confidence that the workflow both *succeeds* AND *fails* as expected. In addition, SageMaker Model Monitor will generate recordings of your data and inferences which we can visualize.\n",
    "\n",
    "Here's a function that can help you generate test inputs for your invokations:"
   ]
  },
  {
   "cell_type": "code",
   "execution_count": 70,
   "metadata": {},
   "outputs": [
    {
     "name": "stderr",
     "output_type": "stream",
     "text": [
      "/opt/conda/lib/python3.7/site-packages/boto3/compat.py:82: PythonDeprecationWarning: Boto3 will no longer support Python 3.7 starting December 13, 2023. To continue receiving service updates, bug fixes, and security updates please upgrade to Python 3.8 or later. More information can be found here: https://aws.amazon.com/blogs/developer/python-support-policy-updates-for-aws-sdks-and-tools/\n",
      "  warnings.warn(warning, PythonDeprecationWarning)\n"
     ]
    },
    {
     "data": {
      "text/plain": [
       "'{\"image_data\": \"\", \"s3_bucket\": \"aws-udacity-abraham-project\", \"s3_key\": \"test/armoire_s_000085.png\"}'"
      ]
     },
     "execution_count": 70,
     "metadata": {},
     "output_type": "execute_result"
    }
   ],
   "source": [
    "import random\n",
    "import boto3\n",
    "import json\n",
    "\n",
    "\n",
    "def generate_test_case():\n",
    "    # Setup s3 in boto3\n",
    "    s3 = boto3.resource('s3')\n",
    "    \n",
    "    # Randomly pick from sfn or test folders in our bucket\n",
    "    objects = s3.Bucket(bucket).objects.filter(Prefix=\"test\")\n",
    "    \n",
    "    # Grab any random object key from that folder!\n",
    "    obj = random.choice([x.key for x in objects])\n",
    "    \n",
    "    return json.dumps({\n",
    "        \"image_data\": \"\",\n",
    "        \"s3_bucket\": bucket,\n",
    "        \"s3_key\": obj\n",
    "    })\n",
    "generate_test_case()"
   ]
  },
  {
   "cell_type": "markdown",
   "metadata": {},
   "source": [
    "In the Step Function dashboard for your new function, you can create new executions and copy in the generated test cases. Do several executions so that you can generate data you can evaluate and visualize.\n",
    "\n",
    "Once you've done several executions, let's visualize the record of our inferences. Pull in the JSONLines data from your inferences like so:"
   ]
  },
  {
   "cell_type": "code",
   "execution_count": 71,
   "metadata": {},
   "outputs": [
    {
     "data": {
      "text/plain": [
       "['captured_data/04-35-129-2d25d838-2418-4f54-9a92-838ff8d7c390.jsonl',\n",
       " 'captured_data/10-40-252-34721a22-b42e-435f-9cca-1fe99864a518.jsonl',\n",
       " 'captured_data/29-39-930-7f00d9ab-f860-449b-b10c-44ea483cbfd7.jsonl',\n",
       " 'captured_data/34-18-652-a78ace31-031c-4f6b-9a53-ecb597e73713.jsonl']"
      ]
     },
     "execution_count": 71,
     "metadata": {},
     "output_type": "execute_result"
    }
   ],
   "source": [
    "from sagemaker.s3 import S3Downloader\n",
    "\n",
    "# In S3 your data will be saved to a datetime-aware path\n",
    "# Find a path related to a datetime you're interested in\n",
    "data_path = \"s3://aws-udacity-abraham-project/data_capture/image-classification-2023-09-09-05-51-59-935/AllTraffic/2023/09/09/07/\"\n",
    "## TODO: fill in the path to your captured data\n",
    "\n",
    "S3Downloader.download(data_path, \"captured_data\")\n",
    "\n",
    "# Feel free to repeat this multiple times and pull in more data"
   ]
  },
  {
   "cell_type": "markdown",
   "metadata": {},
   "source": [
    "The data are in JSONLines format, where multiple valid JSON objects are stacked on top of eachother in a single `jsonl` file. We'll import an open-source library, `jsonlines` that was purpose built for parsing this format."
   ]
  },
  {
   "cell_type": "code",
   "execution_count": 72,
   "metadata": {},
   "outputs": [
    {
     "name": "stdout",
     "output_type": "stream",
     "text": [
      "Requirement already satisfied: jsonlines in /opt/conda/lib/python3.7/site-packages (3.1.0)\n",
      "Requirement already satisfied: attrs>=19.2.0 in /opt/conda/lib/python3.7/site-packages (from jsonlines) (23.1.0)\n",
      "Requirement already satisfied: typing-extensions in /opt/conda/lib/python3.7/site-packages (from jsonlines) (4.7.1)\n",
      "Requirement already satisfied: importlib-metadata in /opt/conda/lib/python3.7/site-packages (from attrs>=19.2.0->jsonlines) (6.7.0)\n",
      "Requirement already satisfied: zipp>=0.5 in /opt/conda/lib/python3.7/site-packages (from importlib-metadata->attrs>=19.2.0->jsonlines) (2.2.0)\n",
      "\u001b[33mDEPRECATION: pyodbc 4.0.0-unsupported has a non-standard version number. pip 23.3 will enforce this behaviour change. A possible replacement is to upgrade to a newer version of pyodbc or contact the author to suggest that they release a version with a conforming version number. Discussion can be found at https://github.com/pypa/pip/issues/12063\u001b[0m\u001b[33m\n",
      "\u001b[0m\u001b[33mWARNING: Running pip as the 'root' user can result in broken permissions and conflicting behaviour with the system package manager. It is recommended to use a virtual environment instead: https://pip.pypa.io/warnings/venv\u001b[0m\u001b[33m\n",
      "\u001b[0m"
     ]
    }
   ],
   "source": [
    "!pip install jsonlines\n",
    "import jsonlines"
   ]
  },
  {
   "cell_type": "markdown",
   "metadata": {},
   "source": [
    "Now we can extract the data from each of the source files:"
   ]
  },
  {
   "cell_type": "code",
   "execution_count": 73,
   "metadata": {},
   "outputs": [],
   "source": [
    "import os\n",
    "\n",
    "# List the file names we downloaded\n",
    "file_handles = os.listdir(\"./captured_data\")\n",
    "\n",
    "# Dump all the data into an array\n",
    "json_data = []\n",
    "for jsonl in file_handles:\n",
    "    with jsonlines.open(f\"./captured_data/{jsonl}\") as f:\n",
    "        json_data.append(f.read())"
   ]
  },
  {
   "cell_type": "markdown",
   "metadata": {},
   "source": [
    "The data should now be a list of dictionaries, with significant nesting. We'll give you an example of some code that grabs data out of the objects and visualizes it:"
   ]
  },
  {
   "cell_type": "code",
   "execution_count": 74,
   "metadata": {},
   "outputs": [
    {
     "data": {
      "text/plain": [
       "([0.8065807819366455, 0.19341926276683807], '2023-09-09T07:10:40Z')"
      ]
     },
     "execution_count": 74,
     "metadata": {},
     "output_type": "execute_result"
    }
   ],
   "source": [
    "# Define how we'll get our data\n",
    "def simple_getter(obj):\n",
    "    inferences = obj[\"captureData\"][\"endpointOutput\"][\"data\"]\n",
    "    timestamp = obj[\"eventMetadata\"][\"inferenceTime\"]\n",
    "    return json.loads(inferences), timestamp\n",
    "\n",
    "simple_getter(json_data[0])"
   ]
  },
  {
   "cell_type": "markdown",
   "metadata": {},
   "source": [
    "Finally, here's an example of a visualization you can build with this data. In this last part, you will take some time and build your own - the captured data has the input images, the resulting inferences, and the timestamps."
   ]
  },
  {
   "cell_type": "code",
   "execution_count": 78,
   "metadata": {},
   "outputs": [
    {
     "name": "stderr",
     "output_type": "stream",
     "text": [
      "INFO:matplotlib.category:Using categorical units to plot a list of strings that are all parsable as floats or dates. If these strings should be plotted as numbers, cast to the appropriate data type before plotting.\n",
      "INFO:matplotlib.category:Using categorical units to plot a list of strings that are all parsable as floats or dates. If these strings should be plotted as numbers, cast to the appropriate data type before plotting.\n"
     ]
    },
    {
     "data": {
      "image/png": "[encoded data removed]",
      "text/plain": [
       "<Figure size 640x480 with 1 Axes>"
      ]
     },
     "metadata": {},
     "output_type": "display_data"
    }
   ],
   "source": [
    "# Populate the data for the x and y axis\n",
    "x = []\n",
    "y = []\n",
    "for obj in json_data:\n",
    "    inference, timestamp = simple_getter(obj)\n",
    "    \n",
    "    y.append(max(inference))\n",
    "    x.append(timestamp)\n",
    "\n",
    "# Todo: here is an visualization example, take some time to build another visual that helps monitor the result\n",
    "# Plot the data\n",
    "plt.scatter(x, y, color=['red' if k<.94 else 'blue' for k in y ])\n",
    "plt.axhline(y=0.94, color='g', linestyle='--')\n",
    "plt.ylim(bottom=.88)\n",
    "\n",
    "# Add labels\n",
    "plt.ylabel(\"Confidence\")\n",
    "plt.suptitle(\"Observed Recent Inferences\", size=14)\n",
    "plt.title(\"Pictured with confidence threshold for production use\", size=10)\n",
    "\n",
    "# Give it some pizzaz!\n",
    "plt.style.use(\"Solarize_Light2\")\n",
    "plt.gcf().autofmt_xdate()"
   ]
  },
  {
   "cell_type": "markdown",
   "metadata": {},
   "source": [
    "### Todo: build your own visualization\n",
    "\n",
    "Fixing previous visualization since the data I got had a value lower than the set y limit from the set in the previous visualization"
   ]
  },
  {
   "cell_type": "code",
   "execution_count": 80,
   "metadata": {
    "tags": []
   },
   "outputs": [
    {
     "name": "stderr",
     "output_type": "stream",
     "text": [
      "INFO:matplotlib.category:Using categorical units to plot a list of strings that are all parsable as floats or dates. If these strings should be plotted as numbers, cast to the appropriate data type before plotting.\n",
      "INFO:matplotlib.category:Using categorical units to plot a list of strings that are all parsable as floats or dates. If these strings should be plotted as numbers, cast to the appropriate data type before plotting.\n"
     ]
    },
    {
     "data": {
      "image/png": "[encoded data removed]",
      "text/plain": [
       "<Figure size 640x480 with 1 Axes>"
      ]
     },
     "metadata": {},
     "output_type": "display_data"
    }
   ],
   "source": [
    "# Populate the data for the x and y axis\n",
    "x = []\n",
    "y = []\n",
    "for obj in json_data:\n",
    "    inference, timestamp = simple_getter(obj)\n",
    "    \n",
    "    y.append(max(inference))\n",
    "    x.append(timestamp)\n",
    "\n",
    "# Todo: here is an visualization example, take some time to build another visual that helps monitor the result\n",
    "# Plot the data\n",
    "plt.scatter(x, y, c=['r' if k<.94 else 'b' for k in y ])\n",
    "plt.axhline(y=0.94, color='g', linestyle='--')\n",
    "plt.ylim(bottom=.4)\n",
    "\n",
    "# Add labels\n",
    "plt.ylabel(\"Confidence\")\n",
    "plt.suptitle(\"Observed Recent Inferences\", size=14)\n",
    "plt.title(\"Pictured with confidence threshold for production use\", size=10)\n",
    "\n",
    "# Give it some pizzaz!\n",
    "plt.style.use(\"Solarize_Light2\")\n",
    "plt.gcf().autofmt_xdate()"
   ]
  },
  {
   "cell_type": "markdown",
   "metadata": {},
   "source": [
    "### Congratulations!\n",
    "\n",
    "You've reached the end of the project. In this project you created an event-drivent ML workflow that can be incorporated into the Scones Unlimited production architecture. You used the SageMaker Estimator API to deploy your SageMaker Model and Endpoint, and you used AWS Lambda and Step Functions to orchestrate your ML workflow. Using SageMaker Model Monitor, you instrumented and observed your Endpoint, and at the end of the project you built a visualization to help stakeholders understand the performance of the Endpoint over time. If you're up for it, you can even go further with these stretch goals:\n",
    "\n",
    "* Extend your workflow to incorporate more classes: the CIFAR dataset includes other vehicles that Scones Unlimited can identify with this model.\n",
    "* Modify your event driven workflow: can you rewrite your Lambda functions so that the workflow can process multiple image inputs in parallel? Can the Step Function \"fan out\" to accomodate this new workflow?\n",
    "* Consider the test data generator we provided for you. Can we use it to create a \"dummy data\" generator, to simulate a continuous stream of input data? Or a big paralell load of data?\n",
    "* What if we want to get notified every time our step function errors out? Can we use the Step Functions visual editor in conjunction with a service like SNS to accomplish this? Try it out!\n",
    "\n",
    "\n"
   ]
  }
 ],
 "metadata": {
  "availableInstances": [
   {
    "_defaultOrder": 0,
    "_isFastLaunch": true,
    "category": "General purpose",
    "gpuNum": 0,
    "hideHardwareSpecs": false,
    "memoryGiB": 4,
    "name": "ml.t3.medium",
    "vcpuNum": 2
   },
   {
    "_defaultOrder": 1,
    "_isFastLaunch": false,
    "category": "General purpose",
    "gpuNum": 0,
    "hideHardwareSpecs": false,
    "memoryGiB": 8,
    "name": "ml.t3.large",
    "vcpuNum": 2
   },
   {
    "_defaultOrder": 2,
    "_isFastLaunch": false,
    "category": "General purpose",
    "gpuNum": 0,
    "hideHardwareSpecs": false,
    "memoryGiB": 16,
    "name": "ml.t3.xlarge",
    "vcpuNum": 4
   },
   {
    "_defaultOrder": 3,
    "_isFastLaunch": false,
    "category": "General purpose",
    "gpuNum": 0,
    "hideHardwareSpecs": false,
    "memoryGiB": 32,
    "name": "ml.t3.2xlarge",
    "vcpuNum": 8
   },
   {
    "_defaultOrder": 4,
    "_isFastLaunch": true,
    "category": "General purpose",
    "gpuNum": 0,
    "hideHardwareSpecs": false,
    "memoryGiB": 8,
    "name": "ml.m5.large",
    "vcpuNum": 2
   },
   {
    "_defaultOrder": 5,
    "_isFastLaunch": false,
    "category": "General purpose",
    "gpuNum": 0,
    "hideHardwareSpecs": false,
    "memoryGiB": 16,
    "name": "ml.m5.xlarge",
    "vcpuNum": 4
   },
   {
    "_defaultOrder": 6,
    "_isFastLaunch": false,
    "category": "General purpose",
    "gpuNum": 0,
    "hideHardwareSpecs": false,
    "memoryGiB": 32,
    "name": "ml.m5.2xlarge",
    "vcpuNum": 8
   },
   {
    "_defaultOrder": 7,
    "_isFastLaunch": false,
    "category": "General purpose",
    "gpuNum": 0,
    "hideHardwareSpecs": false,
    "memoryGiB": 64,
    "name": "ml.m5.4xlarge",
    "vcpuNum": 16
   },
   {
    "_defaultOrder": 8,
    "_isFastLaunch": false,
    "category": "General purpose",
    "gpuNum": 0,
    "hideHardwareSpecs": false,
    "memoryGiB": 128,
    "name": "ml.m5.8xlarge",
    "vcpuNum": 32
   },
   {
    "_defaultOrder": 9,
    "_isFastLaunch": false,
    "category": "General purpose",
    "gpuNum": 0,
    "hideHardwareSpecs": false,
    "memoryGiB": 192,
    "name": "ml.m5.12xlarge",
    "vcpuNum": 48
   },
   {
    "_defaultOrder": 10,
    "_isFastLaunch": false,
    "category": "General purpose",
    "gpuNum": 0,
    "hideHardwareSpecs": false,
    "memoryGiB": 256,
    "name": "ml.m5.16xlarge",
    "vcpuNum": 64
   },
   {
    "_defaultOrder": 11,
    "_isFastLaunch": false,
    "category": "General purpose",
    "gpuNum": 0,
    "hideHardwareSpecs": false,
    "memoryGiB": 384,
    "name": "ml.m5.24xlarge",
    "vcpuNum": 96
   },
   {
    "_defaultOrder": 12,
    "_isFastLaunch": false,
    "category": "General purpose",
    "gpuNum": 0,
    "hideHardwareSpecs": false,
    "memoryGiB": 8,
    "name": "ml.m5d.large",
    "vcpuNum": 2
   },
   {
    "_defaultOrder": 13,
    "_isFastLaunch": false,
    "category": "General purpose",
    "gpuNum": 0,
    "hideHardwareSpecs": false,
    "memoryGiB": 16,
    "name": "ml.m5d.xlarge",
    "vcpuNum": 4
   },
   {
    "_defaultOrder": 14,
    "_isFastLaunch": false,
    "category": "General purpose",
    "gpuNum": 0,
    "hideHardwareSpecs": false,
    "memoryGiB": 32,
    "name": "ml.m5d.2xlarge",
    "vcpuNum": 8
   },
   {
    "_defaultOrder": 15,
    "_isFastLaunch": false,
    "category": "General purpose",
    "gpuNum": 0,
    "hideHardwareSpecs": false,
    "memoryGiB": 64,
    "name": "ml.m5d.4xlarge",
    "vcpuNum": 16
   },
   {
    "_defaultOrder": 16,
    "_isFastLaunch": false,
    "category": "General purpose",
    "gpuNum": 0,
    "hideHardwareSpecs": false,
    "memoryGiB": 128,
    "name": "ml.m5d.8xlarge",
    "vcpuNum": 32
   },
   {
    "_defaultOrder": 17,
    "_isFastLaunch": false,
    "category": "General purpose",
    "gpuNum": 0,
    "hideHardwareSpecs": false,
    "memoryGiB": 192,
    "name": "ml.m5d.12xlarge",
    "vcpuNum": 48
   },
   {
    "_defaultOrder": 18,
    "_isFastLaunch": false,
    "category": "General purpose",
    "gpuNum": 0,
    "hideHardwareSpecs": false,
    "memoryGiB": 256,
    "name": "ml.m5d.16xlarge",
    "vcpuNum": 64
   },
   {
    "_defaultOrder": 19,
    "_isFastLaunch": false,
    "category": "General purpose",
    "gpuNum": 0,
    "hideHardwareSpecs": false,
    "memoryGiB": 384,
    "name": "ml.m5d.24xlarge",
    "vcpuNum": 96
   },
   {
    "_defaultOrder": 20,
    "_isFastLaunch": false,
    "category": "General purpose",
    "gpuNum": 0,
    "hideHardwareSpecs": true,
    "memoryGiB": 0,
    "name": "ml.geospatial.interactive",
    "supportedImageNames": [
     "sagemaker-geospatial-v1-0"
    ],
    "vcpuNum": 0
   },
   {
    "_defaultOrder": 21,
    "_isFastLaunch": true,
    "category": "Compute optimized",
    "gpuNum": 0,
    "hideHardwareSpecs": false,
    "memoryGiB": 4,
    "name": "ml.c5.large",
    "vcpuNum": 2
   },
   {
    "_defaultOrder": 22,
    "_isFastLaunch": false,
    "category": "Compute optimized",
    "gpuNum": 0,
    "hideHardwareSpecs": false,
    "memoryGiB": 8,
    "name": "ml.c5.xlarge",
    "vcpuNum": 4
   },
   {
    "_defaultOrder": 23,
    "_isFastLaunch": false,
    "category": "Compute optimized",
    "gpuNum": 0,
    "hideHardwareSpecs": false,
    "memoryGiB": 16,
    "name": "ml.c5.2xlarge",
    "vcpuNum": 8
   },
   {
    "_defaultOrder": 24,
    "_isFastLaunch": false,
    "category": "Compute optimized",
    "gpuNum": 0,
    "hideHardwareSpecs": false,
    "memoryGiB": 32,
    "name": "ml.c5.4xlarge",
    "vcpuNum": 16
   },
   {
    "_defaultOrder": 25,
    "_isFastLaunch": false,
    "category": "Compute optimized",
    "gpuNum": 0,
    "hideHardwareSpecs": false,
    "memoryGiB": 72,
    "name": "ml.c5.9xlarge",
    "vcpuNum": 36
   },
   {
    "_defaultOrder": 26,
    "_isFastLaunch": false,
    "category": "Compute optimized",
    "gpuNum": 0,
    "hideHardwareSpecs": false,
    "memoryGiB": 96,
    "name": "ml.c5.12xlarge",
    "vcpuNum": 48
   },
   {
    "_defaultOrder": 27,
    "_isFastLaunch": false,
    "category": "Compute optimized",
    "gpuNum": 0,
    "hideHardwareSpecs": false,
    "memoryGiB": 144,
    "name": "ml.c5.18xlarge",
    "vcpuNum": 72
   },
   {
    "_defaultOrder": 28,
    "_isFastLaunch": false,
    "category": "Compute optimized",
    "gpuNum": 0,
    "hideHardwareSpecs": false,
    "memoryGiB": 192,
    "name": "ml.c5.24xlarge",
    "vcpuNum": 96
   },
   {
    "_defaultOrder": 29,
    "_isFastLaunch": true,
    "category": "Accelerated computing",
    "gpuNum": 1,
    "hideHardwareSpecs": false,
    "memoryGiB": 16,
    "name": "ml.g4dn.xlarge",
    "vcpuNum": 4
   },
   {
    "_defaultOrder": 30,
    "_isFastLaunch": false,
    "category": "Accelerated computing",
    "gpuNum": 1,
    "hideHardwareSpecs": false,
    "memoryGiB": 32,
    "name": "ml.g4dn.2xlarge",
    "vcpuNum": 8
   },
   {
    "_defaultOrder": 31,
    "_isFastLaunch": false,
    "category": "Accelerated computing",
    "gpuNum": 1,
    "hideHardwareSpecs": false,
    "memoryGiB": 64,
    "name": "ml.g4dn.4xlarge",
    "vcpuNum": 16
   },
   {
    "_defaultOrder": 32,
    "_isFastLaunch": false,
    "category": "Accelerated computing",
    "gpuNum": 1,
    "hideHardwareSpecs": false,
    "memoryGiB": 128,
    "name": "ml.g4dn.8xlarge",
    "vcpuNum": 32
   },
   {
    "_defaultOrder": 33,
    "_isFastLaunch": false,
    "category": "Accelerated computing",
    "gpuNum": 4,
    "hideHardwareSpecs": false,
    "memoryGiB": 192,
    "name": "ml.g4dn.12xlarge",
    "vcpuNum": 48
   },
   {
    "_defaultOrder": 34,
    "_isFastLaunch": false,
    "category": "Accelerated computing",
    "gpuNum": 1,
    "hideHardwareSpecs": false,
    "memoryGiB": 256,
    "name": "ml.g4dn.16xlarge",
    "vcpuNum": 64
   },
   {
    "_defaultOrder": 35,
    "_isFastLaunch": false,
    "category": "Accelerated computing",
    "gpuNum": 1,
    "hideHardwareSpecs": false,
    "memoryGiB": 61,
    "name": "ml.p3.2xlarge",
    "vcpuNum": 8
   },
   {
    "_defaultOrder": 36,
    "_isFastLaunch": false,
    "category": "Accelerated computing",
    "gpuNum": 4,
    "hideHardwareSpecs": false,
    "memoryGiB": 244,
    "name": "ml.p3.8xlarge",
    "vcpuNum": 32
   },
   {
    "_defaultOrder": 37,
    "_isFastLaunch": false,
    "category": "Accelerated computing",
    "gpuNum": 8,
    "hideHardwareSpecs": false,
    "memoryGiB": 488,
    "name": "ml.p3.16xlarge",
    "vcpuNum": 64
   },
   {
    "_defaultOrder": 38,
    "_isFastLaunch": false,
    "category": "Accelerated computing",
    "gpuNum": 8,
    "hideHardwareSpecs": false,
    "memoryGiB": 768,
    "name": "ml.p3dn.24xlarge",
    "vcpuNum": 96
   },
   {
    "_defaultOrder": 39,
    "_isFastLaunch": false,
    "category": "Memory Optimized",
    "gpuNum": 0,
    "hideHardwareSpecs": false,
    "memoryGiB": 16,
    "name": "ml.r5.large",
    "vcpuNum": 2
   },
   {
    "_defaultOrder": 40,
    "_isFastLaunch": false,
    "category": "Memory Optimized",
    "gpuNum": 0,
    "hideHardwareSpecs": false,
    "memoryGiB": 32,
    "name": "ml.r5.xlarge",
    "vcpuNum": 4
   },
   {
    "_defaultOrder": 41,
    "_isFastLaunch": false,
    "category": "Memory Optimized",
    "gpuNum": 0,
    "hideHardwareSpecs": false,
    "memoryGiB": 64,
    "name": "ml.r5.2xlarge",
    "vcpuNum": 8
   },
   {
    "_defaultOrder": 42,
    "_isFastLaunch": false,
    "category": "Memory Optimized",
    "gpuNum": 0,
    "hideHardwareSpecs": false,
    "memoryGiB": 128,
    "name": "ml.r5.4xlarge",
    "vcpuNum": 16
   },
   {
    "_defaultOrder": 43,
    "_isFastLaunch": false,
    "category": "Memory Optimized",
    "gpuNum": 0,
    "hideHardwareSpecs": false,
    "memoryGiB": 256,
    "name": "ml.r5.8xlarge",
    "vcpuNum": 32
   },
   {
    "_defaultOrder": 44,
    "_isFastLaunch": false,
    "category": "Memory Optimized",
    "gpuNum": 0,
    "hideHardwareSpecs": false,
    "memoryGiB": 384,
    "name": "ml.r5.12xlarge",
    "vcpuNum": 48
   },
   {
    "_defaultOrder": 45,
    "_isFastLaunch": false,
    "category": "Memory Optimized",
    "gpuNum": 0,
    "hideHardwareSpecs": false,
    "memoryGiB": 512,
    "name": "ml.r5.16xlarge",
    "vcpuNum": 64
   },
   {
    "_defaultOrder": 46,
    "_isFastLaunch": false,
    "category": "Memory Optimized",
    "gpuNum": 0,
    "hideHardwareSpecs": false,
    "memoryGiB": 768,
    "name": "ml.r5.24xlarge",
    "vcpuNum": 96
   },
   {
    "_defaultOrder": 47,
    "_isFastLaunch": false,
    "category": "Accelerated computing",
    "gpuNum": 1,
    "hideHardwareSpecs": false,
    "memoryGiB": 16,
    "name": "ml.g5.xlarge",
    "vcpuNum": 4
   },
   {
    "_defaultOrder": 48,
    "_isFastLaunch": false,
    "category": "Accelerated computing",
    "gpuNum": 1,
    "hideHardwareSpecs": false,
    "memoryGiB": 32,
    "name": "ml.g5.2xlarge",
    "vcpuNum": 8
   },
   {
    "_defaultOrder": 49,
    "_isFastLaunch": false,
    "category": "Accelerated computing",
    "gpuNum": 1,
    "hideHardwareSpecs": false,
    "memoryGiB": 64,
    "name": "ml.g5.4xlarge",
    "vcpuNum": 16
   },
   {
    "_defaultOrder": 50,
    "_isFastLaunch": false,
    "category": "Accelerated computing",
    "gpuNum": 1,
    "hideHardwareSpecs": false,
    "memoryGiB": 128,
    "name": "ml.g5.8xlarge",
    "vcpuNum": 32
   },
   {
    "_defaultOrder": 51,
    "_isFastLaunch": false,
    "category": "Accelerated computing",
    "gpuNum": 1,
    "hideHardwareSpecs": false,
    "memoryGiB": 256,
    "name": "ml.g5.16xlarge",
    "vcpuNum": 64
   },
   {
    "_defaultOrder": 52,
    "_isFastLaunch": false,
    "category": "Accelerated computing",
    "gpuNum": 4,
    "hideHardwareSpecs": false,
    "memoryGiB": 192,
    "name": "ml.g5.12xlarge",
    "vcpuNum": 48
   },
   {
    "_defaultOrder": 53,
    "_isFastLaunch": false,
    "category": "Accelerated computing",
    "gpuNum": 4,
    "hideHardwareSpecs": false,
    "memoryGiB": 384,
    "name": "ml.g5.24xlarge",
    "vcpuNum": 96
   },
   {
    "_defaultOrder": 54,
    "_isFastLaunch": false,
    "category": "Accelerated computing",
    "gpuNum": 8,
    "hideHardwareSpecs": false,
    "memoryGiB": 768,
    "name": "ml.g5.48xlarge",
    "vcpuNum": 192
   },
   {
    "_defaultOrder": 55,
    "_isFastLaunch": false,
    "category": "Accelerated computing",
    "gpuNum": 8,
    "hideHardwareSpecs": false,
    "memoryGiB": 1152,
    "name": "ml.p4d.24xlarge",
    "vcpuNum": 96
   },
   {
    "_defaultOrder": 56,
    "_isFastLaunch": false,
    "category": "Accelerated computing",
    "gpuNum": 8,
    "hideHardwareSpecs": false,
    "memoryGiB": 1152,
    "name": "ml.p4de.24xlarge",
    "vcpuNum": 96
   }
  ],
  "kernelspec": {
   "display_name": "Python 3 (Data Science)",
   "language": "python",
   "name": "python3__SAGEMAKER_INTERNAL__arn:aws:sagemaker:us-east-1:081325390199:image/datascience-1.0"
  },
  "language_info": {
   "codemirror_mode": {
    "name": "ipython",
    "version": 3
   },
   "file_extension": ".py",
   "mimetype": "text/x-python",
   "name": "python",
   "nbconvert_exporter": "python",
   "pygments_lexer": "ipython3",
   "version": "3.7.10"
  }
 },
 "nbformat": 4,
 "nbformat_minor": 4
}
